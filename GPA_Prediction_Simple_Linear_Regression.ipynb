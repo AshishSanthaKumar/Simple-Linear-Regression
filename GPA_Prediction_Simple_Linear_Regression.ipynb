{
  "nbformat": 4,
  "nbformat_minor": 0,
  "metadata": {
    "colab": {
      "name": "GPA Prediction - Simple Linear Regression.ipynb",
      "provenance": []
    },
    "kernelspec": {
      "name": "python3",
      "display_name": "Python 3"
    }
  },
  "cells": [
    {
      "cell_type": "markdown",
      "metadata": {
        "id": "uZOjNWV1VH5Y",
        "colab_type": "text"
      },
      "source": [
        "#**SIMPLE LINEAR REGRESSION**"
      ]
    },
    {
      "cell_type": "markdown",
      "metadata": {
        "id": "R2Su5bpMVTXU",
        "colab_type": "text"
      },
      "source": [
        "This is a simple data set with two columns - SAT score and GPA. The objective is to create a regression model to predict a person's future GPA with SAT score"
      ]
    },
    {
      "cell_type": "markdown",
      "metadata": {
        "id": "K32vdSYmDPN3",
        "colab_type": "text"
      },
      "source": [
        "###Importing Libraries"
      ]
    },
    {
      "cell_type": "code",
      "metadata": {
        "id": "Wb5QBpzLDSNU",
        "colab_type": "code",
        "colab": {}
      },
      "source": [
        "import numpy as np\n",
        "import pandas as pd\n",
        "import matplotlib.pyplot as plt"
      ],
      "execution_count": null,
      "outputs": []
    },
    {
      "cell_type": "markdown",
      "metadata": {
        "id": "wPZJcxS_Vver",
        "colab_type": "text"
      },
      "source": [
        "###Loading Data"
      ]
    },
    {
      "cell_type": "code",
      "metadata": {
        "id": "3ynyjVoKDTxS",
        "colab_type": "code",
        "colab": {}
      },
      "source": [
        "data = pd.read_csv('/content/datasets_141319_332156_1.01. Simple linear regression.csv')"
      ],
      "execution_count": null,
      "outputs": []
    },
    {
      "cell_type": "code",
      "metadata": {
        "id": "f8afR2nbDuXG",
        "colab_type": "code",
        "colab": {
          "base_uri": "https://localhost:8080/",
          "height": 255
        },
        "outputId": "efb501d0-b605-46a5-d11d-709c817c89de"
      },
      "source": [
        "print(data)"
      ],
      "execution_count": null,
      "outputs": [
        {
          "output_type": "stream",
          "text": [
            "     SAT   GPA\n",
            "0   1714  2.40\n",
            "1   1664  2.52\n",
            "2   1760  2.54\n",
            "3   1685  2.74\n",
            "4   1693  2.83\n",
            "..   ...   ...\n",
            "79  1936  3.71\n",
            "80  1810  3.71\n",
            "81  1987  3.73\n",
            "82  1962  3.76\n",
            "83  2050  3.81\n",
            "\n",
            "[84 rows x 2 columns]\n"
          ],
          "name": "stdout"
        }
      ]
    },
    {
      "cell_type": "markdown",
      "metadata": {
        "id": "-8hoAuBVW6OX",
        "colab_type": "text"
      },
      "source": [
        "###Checking for Potential Null Values"
      ]
    },
    {
      "cell_type": "code",
      "metadata": {
        "id": "7FbzqaTaDwV4",
        "colab_type": "code",
        "colab": {
          "base_uri": "https://localhost:8080/",
          "height": 68
        },
        "outputId": "5406f989-f151-41c0-b7ff-5873e16d57b2"
      },
      "source": [
        "null_columns=data.columns[data.isnull().any()]\n",
        "\n",
        "print(data[data.isnull().any(axis=1)][null_columns].head())"
      ],
      "execution_count": null,
      "outputs": [
        {
          "output_type": "stream",
          "text": [
            "Empty DataFrame\n",
            "Columns: []\n",
            "Index: []\n"
          ],
          "name": "stdout"
        }
      ]
    },
    {
      "cell_type": "markdown",
      "metadata": {
        "id": "mq5mOD6zXBR5",
        "colab_type": "text"
      },
      "source": [
        "###Splitting Training and Test Data"
      ]
    },
    {
      "cell_type": "code",
      "metadata": {
        "id": "XxDgg3xNGCth",
        "colab_type": "code",
        "colab": {}
      },
      "source": [
        "#Splitting the dependent and independent variables\n",
        "X = data.iloc[ :, : -1].values\n",
        "Y = data.iloc[:, -1].values"
      ],
      "execution_count": null,
      "outputs": []
    },
    {
      "cell_type": "code",
      "metadata": {
        "id": "H_1yE-QwHp-t",
        "colab_type": "code",
        "colab": {}
      },
      "source": [
        "#Splitting Training and Test data\n",
        "from sklearn.model_selection import train_test_split\n",
        "X_train, X_test, Y_train, Y_test = train_test_split(X, Y, test_size = 0.3, random_state = 1)\n"
      ],
      "execution_count": null,
      "outputs": []
    },
    {
      "cell_type": "markdown",
      "metadata": {
        "id": "E84njpVLXGVP",
        "colab_type": "text"
      },
      "source": [
        "###Training the Regression Model"
      ]
    },
    {
      "cell_type": "code",
      "metadata": {
        "id": "Y4bPkCIaLdxh",
        "colab_type": "code",
        "colab": {
          "base_uri": "https://localhost:8080/",
          "height": 34
        },
        "outputId": "40f30ec6-4f7e-401c-dd4c-a714916b9b25"
      },
      "source": [
        "from sklearn.linear_model import LinearRegression\n",
        "regressor = LinearRegression()\n",
        "regressor.fit(X_train, Y_train)"
      ],
      "execution_count": null,
      "outputs": [
        {
          "output_type": "execute_result",
          "data": {
            "text/plain": [
              "LinearRegression(copy_X=True, fit_intercept=True, n_jobs=None, normalize=False)"
            ]
          },
          "metadata": {
            "tags": []
          },
          "execution_count": 43
        }
      ]
    },
    {
      "cell_type": "markdown",
      "metadata": {
        "id": "uytnh3VFXa14",
        "colab_type": "text"
      },
      "source": [
        "###Predicting on Test Data"
      ]
    },
    {
      "cell_type": "code",
      "metadata": {
        "id": "is-7dFKoMStI",
        "colab_type": "code",
        "colab": {}
      },
      "source": [
        "Y_pred = regressor.predict(X_test)"
      ],
      "execution_count": null,
      "outputs": []
    },
    {
      "cell_type": "markdown",
      "metadata": {
        "id": "7acuXfPZXm7g",
        "colab_type": "text"
      },
      "source": [
        "###Visualizing the Training Set"
      ]
    },
    {
      "cell_type": "code",
      "metadata": {
        "id": "SRAVooE9NSdf",
        "colab_type": "code",
        "colab": {
          "base_uri": "https://localhost:8080/",
          "height": 295
        },
        "outputId": "40d5cfa4-9026-4259-c54e-7560b19089bb"
      },
      "source": [
        "plt.scatter(X_train, Y_train, color='red')\n",
        "plt.plot(X_train, regressor.predict(X_train), color='blue', scaley=True)\n",
        "plt.title('SAT score vs GPA (Training set)')\n",
        "plt.xlabel('SAT Score')\n",
        "plt.ylabel('GPA')\n",
        "plt.show()\n"
      ],
      "execution_count": null,
      "outputs": [
        {
          "output_type": "display_data",
          "data": {
            "image/png": "[encoded data removed]",
            "text/plain": [
              "<Figure size 432x288 with 1 Axes>"
            ]
          },
          "metadata": {
            "tags": [],
            "needs_background": "light"
          }
        }
      ]
    },
    {
      "cell_type": "markdown",
      "metadata": {
        "id": "6DxJGXw1XtB8",
        "colab_type": "text"
      },
      "source": [
        "###Visualizing the Testing Data"
      ]
    },
    {
      "cell_type": "code",
      "metadata": {
        "id": "Qc1ykLKWNvyz",
        "colab_type": "code",
        "colab": {
          "base_uri": "https://localhost:8080/",
          "height": 295
        },
        "outputId": "f21f9cbb-12ea-4969-e01d-f4e6c7fb55fa"
      },
      "source": [
        "plt.scatter(X_test, Y_test, color='red')\n",
        "plt.plot(X_train, regressor.predict(X_train), color='blue')\n",
        "plt.title('SAT score vs GPA (Training set)')\n",
        "plt.xlabel('SAT Score')\n",
        "plt.ylabel('GPA')\n",
        "plt.show()"
      ],
      "execution_count": null,
      "outputs": [
        {
          "output_type": "display_data",
          "data": {
            "image/png": "[encoded data removed]",
            "text/plain": [
              "<Figure size 432x288 with 1 Axes>"
            ]
          },
          "metadata": {
            "tags": [],
            "needs_background": "light"
          }
        }
      ]
    },
    {
      "cell_type": "markdown",
      "metadata": {
        "id": "xedW7_YEcFtB",
        "colab_type": "text"
      },
      "source": [
        "###Predicting a New Data"
      ]
    },
    {
      "cell_type": "code",
      "metadata": {
        "id": "jf2MdNeqcIM3",
        "colab_type": "code",
        "colab": {
          "base_uri": "https://localhost:8080/",
          "height": 34
        },
        "outputId": "a95c1e3b-7d0a-4c7c-cf63-a9fef7ca7f08"
      },
      "source": [
        "new_data = pd.DataFrame(data = [2010, 1850], columns = ['SAT'])\n",
        "regressor.predict(new_data)"
      ],
      "execution_count": null,
      "outputs": [
        {
          "output_type": "execute_result",
          "data": {
            "text/plain": [
              "array([3.59907546, 3.31226495])"
            ]
          },
          "metadata": {
            "tags": []
          },
          "execution_count": 68
        }
      ]
    },
    {
      "cell_type": "markdown",
      "metadata": {
        "id": "Xtxzh4BOczYb",
        "colab_type": "text"
      },
      "source": [
        "The Predicted GPA for the SAT scores 2010 and 1850 are 3.59 and 3.31"
      ]
    }
  ]
}